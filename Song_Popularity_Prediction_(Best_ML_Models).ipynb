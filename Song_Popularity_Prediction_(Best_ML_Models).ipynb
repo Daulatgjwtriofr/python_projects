{
  "metadata": {
    "kernelspec": {
      "language": "python",
      "display_name": "Python 3",
      "name": "python3"
    },
    "language_info": {
      "pygments_lexer": "ipython3",
      "nbconvert_exporter": "python",
      "version": "3.6.4",
      "file_extension": ".py",
      "codemirror_mode": {
        "name": "ipython",
        "version": 3
      },
      "name": "python",
      "mimetype": "text/x-python"
    },
    "colab": {
      "name": "Song Popularity Prediction - (Best ML Models)",
      "provenance": [],
      "include_colab_link": true
    }
  },
  "nbformat_minor": 0,
  "nbformat": 4,
  "cells": [
    {
      "cell_type": "markdown",
      "metadata": {
        "id": "view-in-github",
        "colab_type": "text"
      },
      "source": [
        "<a href=\"https://colab.research.google.com/github/Daulatgjwtriofr/python_projects/blob/main/Song_Popularity_Prediction_(Best_ML_Models).ipynb\" target=\"_parent\"><img src=\"https://colab.research.google.com/assets/colab-badge.svg\" alt=\"Open In Colab\"/></a>"
      ]
    },
    {
      "source": [
        "# IMPORTANT: RUN THIS CELL IN ORDER TO IMPORT YOUR KAGGLE DATA SOURCES,\n",
        "# THEN FEEL FREE TO DELETE THIS CELL.\n",
        "# NOTE: THIS NOTEBOOK ENVIRONMENT DIFFERS FROM KAGGLE'S PYTHON\n",
        "# ENVIRONMENT SO THERE MAY BE MISSING LIBRARIES USED BY YOUR\n",
        "# NOTEBOOK.\n",
        "import kagglehub\n",
        "yasserh_song_popularity_dataset_path = kagglehub.dataset_download('yasserh/song-popularity-dataset')\n",
        "\n",
        "print('Data source import complete.')\n"
      ],
      "metadata": {
        "id": "eOR6ObxqddBI"
      },
      "cell_type": "code",
      "outputs": [],
      "execution_count": null
    },
    {
      "cell_type": "markdown",
      "source": [
        "---"
      ],
      "metadata": {
        "papermill": {
          "duration": 0.056806,
          "end_time": "2022-01-06T14:10:10.551989",
          "exception": false,
          "start_time": "2022-01-06T14:10:10.495183",
          "status": "completed"
        },
        "tags": [],
        "id": "2vkZm_RUddBL"
      }
    },
    {
      "cell_type": "markdown",
      "source": [
        "# <center> ★ AI/ML Project - Song Popularity Prediction ★\n",
        "#### <center> ***Domain: Music & Entertainment***"
      ],
      "metadata": {
        "papermill": {
          "duration": 0.057863,
          "end_time": "2022-01-06T14:10:10.671355",
          "exception": false,
          "start_time": "2022-01-06T14:10:10.613492",
          "status": "completed"
        },
        "tags": [],
        "id": "iFKxIoSaddBN"
      }
    },
    {
      "cell_type": "markdown",
      "source": [
        "---"
      ],
      "metadata": {
        "papermill": {
          "duration": 0.055399,
          "end_time": "2022-01-06T14:10:10.782272",
          "exception": false,
          "start_time": "2022-01-06T14:10:10.726873",
          "status": "completed"
        },
        "tags": [],
        "id": "ba4fEXHnddBO"
      }
    },
    {
      "cell_type": "markdown",
      "source": [
        "![image](https://raw.githubusercontent.com/Masterx-AI/Project_Song_Popularity_Prediction_/main/songs.jpg)"
      ],
      "metadata": {
        "papermill": {
          "duration": 0.056222,
          "end_time": "2022-01-06T14:10:10.895077",
          "exception": false,
          "start_time": "2022-01-06T14:10:10.838855",
          "status": "completed"
        },
        "tags": [],
        "id": "eam35cvSddBP"
      }
    },
    {
      "cell_type": "markdown",
      "source": [
        "---"
      ],
      "metadata": {
        "papermill": {
          "duration": 0.055165,
          "end_time": "2022-01-06T14:10:11.007289",
          "exception": false,
          "start_time": "2022-01-06T14:10:10.952124",
          "status": "completed"
        },
        "tags": [],
        "id": "bxx8CHudddBP"
      }
    },
    {
      "cell_type": "markdown",
      "source": [
        "### Description:\n",
        "\n",
        "Humans have greatly associated themselves with Songs & Music. It can improve mood, decrease pain and anxiety, and facilitate opportunities for emotional expression. Research suggests that music can benefit our physical and mental health in numerous ways.\n",
        "\n",
        "Lately, multiple studies have been carried out to understand songs & it's popularity based on certain factors. Such song samples are broken down & their parameters are recorded to tabulate. Predicting the Song Popularity is the main aim.\n",
        "\n",
        "The project is simple yet challenging, to predict the song popularity based on energy, acoustics, instumentalness, liveness, dancibility, etc. The dataset is large & it's complexity arises due to the fact that it has strong multicollinearity. Can you overcome these obstacles & build a decent predictive model?\n",
        "\n",
        "### Acknowledgement:\n",
        "The dataset is referred from Kaggle.\n",
        "\n",
        "\n",
        "### Objective:\n",
        "- Understand the Dataset & cleanup (if required).\n",
        "- Build Regression models to predict the song popularity.\n",
        "- Also evaluate the models & compare their respective scores like R2, RMSE, etc."
      ],
      "metadata": {
        "papermill": {
          "duration": 0.055648,
          "end_time": "2022-01-06T14:10:11.119739",
          "exception": false,
          "start_time": "2022-01-06T14:10:11.064091",
          "status": "completed"
        },
        "tags": [],
        "id": "J3ivW1B6ddBP"
      }
    },
    {
      "cell_type": "markdown",
      "source": [
        "---"
      ],
      "metadata": {
        "papermill": {
          "duration": 0.055243,
          "end_time": "2022-01-06T14:10:11.230975",
          "exception": false,
          "start_time": "2022-01-06T14:10:11.175732",
          "status": "completed"
        },
        "tags": [],
        "id": "-tJ7vhpCddBQ"
      }
    },
    {
      "cell_type": "markdown",
      "source": [
        "# <center> Stractegic Plan of Action:"
      ],
      "metadata": {
        "papermill": {
          "duration": 0.05696,
          "end_time": "2022-01-06T14:10:11.343823",
          "exception": false,
          "start_time": "2022-01-06T14:10:11.286863",
          "status": "completed"
        },
        "tags": [],
        "id": "0EPEI_mnddBQ"
      }
    },
    {
      "cell_type": "markdown",
      "source": [
        "**We aim to solve the problem statement by creating a plan of action, Here are some of the necessary steps:**\n",
        "1. Data Exploration\n",
        "2. Exploratory Data Analysis (EDA)\n",
        "3. Data Pre-processing\n",
        "4. Data Manipulation\n",
        "5. Feature Selection/Extraction\n",
        "6. Predictive Modelling\n",
        "7. Project Outcomes & Conclusion"
      ],
      "metadata": {
        "papermill": {
          "duration": 0.057622,
          "end_time": "2022-01-06T14:10:11.457491",
          "exception": false,
          "start_time": "2022-01-06T14:10:11.399869",
          "status": "completed"
        },
        "tags": [],
        "id": "rqfgKNvNddBR"
      }
    },
    {
      "cell_type": "markdown",
      "source": [
        "---"
      ],
      "metadata": {
        "papermill": {
          "duration": 0.054911,
          "end_time": "2022-01-06T14:10:11.570601",
          "exception": false,
          "start_time": "2022-01-06T14:10:11.51569",
          "status": "completed"
        },
        "tags": [],
        "id": "5jM4qS3VddBR"
      }
    },
    {
      "cell_type": "markdown",
      "source": [
        "# <center>1. Data Exploration"
      ],
      "metadata": {
        "papermill": {
          "duration": 0.055334,
          "end_time": "2022-01-06T14:10:11.682077",
          "exception": false,
          "start_time": "2022-01-06T14:10:11.626743",
          "status": "completed"
        },
        "tags": [],
        "id": "81YzaxTVddBS"
      }
    },
    {
      "cell_type": "code",
      "source": [
        "#Importing the basic librarires\n",
        "\n",
        "import math\n",
        "import numpy as np\n",
        "import pandas as pd\n",
        "import seaborn as sns\n",
        "from IPython.display import display\n",
        "\n",
        "#from brokenaxes import brokenaxes\n",
        "from statsmodels.formula import api\n",
        "from sklearn.feature_selection import RFE\n",
        "from sklearn.preprocessing import StandardScaler\n",
        "from sklearn.model_selection import train_test_split\n",
        "from statsmodels.stats.outliers_influence import variance_inflation_factor\n",
        "\n",
        "from sklearn.decomposition import PCA\n",
        "from sklearn.linear_model import Ridge\n",
        "from sklearn.linear_model import Lasso\n",
        "from sklearn.linear_model import ElasticNet\n",
        "from sklearn.linear_model import LinearRegression\n",
        "from sklearn.ensemble import RandomForestClassifier\n",
        "from sklearn.preprocessing import PolynomialFeatures\n",
        "from sklearn.metrics import r2_score, mean_absolute_error, mean_squared_error\n",
        "\n",
        "import matplotlib.pyplot as plt\n",
        "plt.rcParams['figure.figsize'] = [10,6]\n",
        "\n",
        "import warnings\n",
        "warnings.filterwarnings('ignore')"
      ],
      "metadata": {
        "papermill": {
          "duration": 1.714035,
          "end_time": "2022-01-06T14:10:13.451631",
          "exception": false,
          "start_time": "2022-01-06T14:10:11.737596",
          "status": "completed"
        },
        "tags": [],
        "execution": {
          "iopub.status.busy": "2022-01-23T08:05:46.490058Z",
          "iopub.execute_input": "2022-01-23T08:05:46.490379Z",
          "iopub.status.idle": "2022-01-23T08:05:46.499869Z",
          "shell.execute_reply.started": "2022-01-23T08:05:46.490343Z",
          "shell.execute_reply": "2022-01-23T08:05:46.499208Z"
        },
        "trusted": true,
        "id": "b_ALUilrddBS"
      },
      "execution_count": null,
      "outputs": []
    },
    {
      "cell_type": "code",
      "source": [
        "#Importing the dataset\n",
        "\n",
        "df = pd.read_csv('../input/song-popularity-dataset/song_data.csv')\n",
        "\n",
        "df.drop(['song_name'], axis=1, inplace=True)\n",
        "display(df.head())\n",
        "\n",
        "target = 'song_popularity'\n",
        "features = [i for i in df.columns if i not in [target]]\n",
        "\n",
        "original_df = df.copy(deep=True)\n",
        "\n",
        "print('\\n\\033[1mInference:\\033[0m The Datset consists of {} features & {} samples.'.format(df.shape[1], df.shape[0]))"
      ],
      "metadata": {
        "papermill": {
          "duration": 0.114554,
          "end_time": "2022-01-06T14:10:13.623207",
          "exception": false,
          "start_time": "2022-01-06T14:10:13.508653",
          "status": "completed"
        },
        "tags": [],
        "execution": {
          "iopub.status.busy": "2022-01-23T08:05:46.501184Z",
          "iopub.execute_input": "2022-01-23T08:05:46.501968Z",
          "iopub.status.idle": "2022-01-23T08:05:46.606463Z",
          "shell.execute_reply.started": "2022-01-23T08:05:46.501913Z",
          "shell.execute_reply": "2022-01-23T08:05:46.605551Z"
        },
        "trusted": true,
        "id": "JtkGDLY3ddBT"
      },
      "execution_count": null,
      "outputs": []
    },
    {
      "cell_type": "code",
      "source": [
        "#Checking the dtypes of all the columns\n",
        "\n",
        "df.info()"
      ],
      "metadata": {
        "papermill": {
          "duration": 0.080667,
          "end_time": "2022-01-06T14:10:13.759992",
          "exception": false,
          "start_time": "2022-01-06T14:10:13.679325",
          "status": "completed"
        },
        "tags": [],
        "execution": {
          "iopub.status.busy": "2022-01-23T08:05:46.608288Z",
          "iopub.execute_input": "2022-01-23T08:05:46.608599Z",
          "iopub.status.idle": "2022-01-23T08:05:46.625132Z",
          "shell.execute_reply.started": "2022-01-23T08:05:46.608555Z",
          "shell.execute_reply": "2022-01-23T08:05:46.624374Z"
        },
        "trusted": true,
        "id": "d_2cWTfjddBT"
      },
      "execution_count": null,
      "outputs": []
    },
    {
      "cell_type": "code",
      "source": [
        "#Checking number of unique rows in each feature\n",
        "\n",
        "df.nunique().sort_values()"
      ],
      "metadata": {
        "papermill": {
          "duration": 0.074218,
          "end_time": "2022-01-06T14:10:13.890372",
          "exception": false,
          "start_time": "2022-01-06T14:10:13.816154",
          "status": "completed"
        },
        "tags": [],
        "execution": {
          "iopub.status.busy": "2022-01-23T08:05:46.626222Z",
          "iopub.execute_input": "2022-01-23T08:05:46.626462Z",
          "iopub.status.idle": "2022-01-23T08:05:46.644322Z",
          "shell.execute_reply.started": "2022-01-23T08:05:46.626432Z",
          "shell.execute_reply": "2022-01-23T08:05:46.643541Z"
        },
        "trusted": true,
        "id": "vaz7osrPddBT"
      },
      "execution_count": null,
      "outputs": []
    },
    {
      "cell_type": "code",
      "source": [
        "#Checking number of unique rows in each feature\n",
        "\n",
        "nu = df[features].nunique().sort_values()\n",
        "nf = []; cf = []; nnf = 0; ncf = 0; #numerical & categorical features\n",
        "\n",
        "for i in range(df[features].shape[1]):\n",
        "    if nu.values[i]<=16:cf.append(nu.index[i])\n",
        "    else: nf.append(nu.index[i])\n",
        "\n",
        "print('\\n\\033[1mInference:\\033[0m The Datset has {} numerical & {} categorical features.'.format(len(nf),len(cf)))"
      ],
      "metadata": {
        "papermill": {
          "duration": 0.073228,
          "end_time": "2022-01-06T14:10:14.021148",
          "exception": false,
          "start_time": "2022-01-06T14:10:13.94792",
          "status": "completed"
        },
        "tags": [],
        "execution": {
          "iopub.status.busy": "2022-01-23T08:05:46.645605Z",
          "iopub.execute_input": "2022-01-23T08:05:46.645972Z",
          "iopub.status.idle": "2022-01-23T08:05:46.665672Z",
          "shell.execute_reply.started": "2022-01-23T08:05:46.645941Z",
          "shell.execute_reply": "2022-01-23T08:05:46.664728Z"
        },
        "trusted": true,
        "id": "o6qF9Jv4ddBT"
      },
      "execution_count": null,
      "outputs": []
    },
    {
      "cell_type": "code",
      "source": [
        "#Checking the stats of all the columns\n",
        "\n",
        "display(df.describe())"
      ],
      "metadata": {
        "papermill": {
          "duration": 0.109863,
          "end_time": "2022-01-06T14:10:14.188688",
          "exception": false,
          "start_time": "2022-01-06T14:10:14.078825",
          "status": "completed"
        },
        "tags": [],
        "execution": {
          "iopub.status.busy": "2022-01-23T08:05:46.667007Z",
          "iopub.execute_input": "2022-01-23T08:05:46.667289Z",
          "iopub.status.idle": "2022-01-23T08:05:46.731453Z",
          "shell.execute_reply.started": "2022-01-23T08:05:46.667254Z",
          "shell.execute_reply": "2022-01-23T08:05:46.730719Z"
        },
        "trusted": true,
        "id": "nCiMn4ihddBU"
      },
      "execution_count": null,
      "outputs": []
    },
    {
      "cell_type": "markdown",
      "source": [
        "**Inference:** The stats seem to be fine, let us do further analysis on the Dataset"
      ],
      "metadata": {
        "papermill": {
          "duration": 0.057573,
          "end_time": "2022-01-06T14:10:14.303685",
          "exception": false,
          "start_time": "2022-01-06T14:10:14.246112",
          "status": "completed"
        },
        "tags": [],
        "id": "JEx0dzhhddBU"
      }
    },
    {
      "cell_type": "markdown",
      "source": [
        "---"
      ],
      "metadata": {
        "papermill": {
          "duration": 0.058071,
          "end_time": "2022-01-06T14:10:14.421479",
          "exception": false,
          "start_time": "2022-01-06T14:10:14.363408",
          "status": "completed"
        },
        "tags": [],
        "id": "gtPyRRfIddBU"
      }
    },
    {
      "cell_type": "markdown",
      "source": [
        "# <center> 2. Exploratory Data Analysis (EDA)"
      ],
      "metadata": {
        "papermill": {
          "duration": 0.057564,
          "end_time": "2022-01-06T14:10:14.537363",
          "exception": false,
          "start_time": "2022-01-06T14:10:14.479799",
          "status": "completed"
        },
        "tags": [],
        "id": "00bi7TdyddBU"
      }
    },
    {
      "cell_type": "code",
      "source": [
        "#Let us first analyze the distribution of the target variable\n",
        "\n",
        "plt.figure(figsize=[8,4])\n",
        "sns.distplot(df[target], color='g',hist_kws=dict(edgecolor=\"black\", linewidth=2), bins=30)\n",
        "plt.title('Target Variable Distribution - Median Value of Homes ($1Ms)')\n",
        "plt.show()"
      ],
      "metadata": {
        "papermill": {
          "duration": 0.386195,
          "end_time": "2022-01-06T14:10:14.981301",
          "exception": false,
          "start_time": "2022-01-06T14:10:14.595106",
          "status": "completed"
        },
        "tags": [],
        "execution": {
          "iopub.status.busy": "2022-01-23T08:05:48.652115Z",
          "iopub.execute_input": "2022-01-23T08:05:48.652918Z",
          "iopub.status.idle": "2022-01-23T08:05:49.083722Z",
          "shell.execute_reply.started": "2022-01-23T08:05:48.652859Z",
          "shell.execute_reply": "2022-01-23T08:05:49.0827Z"
        },
        "trusted": true,
        "id": "YoE5u52qddBU"
      },
      "execution_count": null,
      "outputs": []
    },
    {
      "cell_type": "markdown",
      "source": [
        "**Inference:**The Target Variable seems to be be normally distributed, averaging around 60 units."
      ],
      "metadata": {
        "papermill": {
          "duration": 0.058461,
          "end_time": "2022-01-06T14:10:15.09813",
          "exception": false,
          "start_time": "2022-01-06T14:10:15.039669",
          "status": "completed"
        },
        "tags": [],
        "id": "iiE3BqkUddBV"
      }
    },
    {
      "cell_type": "code",
      "source": [
        "#Visualising the categorical features\n",
        "\n",
        "print('\\033[1mVisualising Categorical Features:'.center(100))\n",
        "\n",
        "n=2\n",
        "plt.figure(figsize=[15,3*math.ceil(len(cf)/n)])\n",
        "\n",
        "for i in range(len(cf)):\n",
        "    if df[cf[i]].nunique()<=8:\n",
        "        plt.subplot(math.ceil(len(cf)/n),n,i+1)\n",
        "        sns.countplot(df[cf[i]])\n",
        "    else:\n",
        "        plt.subplot(2,1,2)\n",
        "        sns.countplot(df[cf[i]])\n",
        "\n",
        "plt.tight_layout()\n",
        "plt.show()"
      ],
      "metadata": {
        "papermill": {
          "duration": 1.231645,
          "end_time": "2022-01-06T14:10:16.388609",
          "exception": false,
          "start_time": "2022-01-06T14:10:15.156964",
          "status": "completed"
        },
        "tags": [],
        "execution": {
          "iopub.status.busy": "2022-01-15T15:08:09.780588Z",
          "iopub.execute_input": "2022-01-15T15:08:09.780802Z",
          "iopub.status.idle": "2022-01-15T15:08:10.345472Z",
          "shell.execute_reply.started": "2022-01-15T15:08:09.780775Z",
          "shell.execute_reply": "2022-01-15T15:08:10.344377Z"
        },
        "trusted": true,
        "id": "5lhVhru_ddBV"
      },
      "execution_count": null,
      "outputs": []
    },
    {
      "cell_type": "markdown",
      "source": [
        "**Inference:** The categorical features reveal alot of information about the dataset."
      ],
      "metadata": {
        "papermill": {
          "duration": 0.060715,
          "end_time": "2022-01-06T14:10:16.51011",
          "exception": false,
          "start_time": "2022-01-06T14:10:16.449395",
          "status": "completed"
        },
        "tags": [],
        "id": "KhnL3-XAddBV"
      }
    },
    {
      "cell_type": "code",
      "source": [
        "#Visualising the numeric features\n",
        "\n",
        "print('\\033[1mNumeric Features Distribution'.center(100))\n",
        "\n",
        "n=5\n",
        "\n",
        "clr=['r','g','b','g','b','r']\n",
        "\n",
        "plt.figure(figsize=[15,4*math.ceil(len(nf)/n)])\n",
        "for i in range(len(nf)):\n",
        "    plt.subplot(math.ceil(len(nf)/3),n,i+1)\n",
        "    sns.distplot(df[nf[i]],hist_kws=dict(edgecolor=\"black\", linewidth=2), bins=10, color=list(np.random.randint([255,255,255])/255))\n",
        "plt.tight_layout()\n",
        "plt.show()\n",
        "\n",
        "plt.figure(figsize=[15,4*math.ceil(len(nf)/n)])\n",
        "for i in range(len(nf)):\n",
        "    plt.subplot(math.ceil(len(nf)/3),n,i+1)\n",
        "    df.boxplot(nf[i])\n",
        "plt.tight_layout()\n",
        "plt.show()"
      ],
      "metadata": {
        "papermill": {
          "duration": 2.02447,
          "end_time": "2022-01-06T14:10:18.595896",
          "exception": false,
          "start_time": "2022-01-06T14:10:16.571426",
          "status": "completed"
        },
        "tags": [],
        "execution": {
          "iopub.status.busy": "2022-01-15T15:08:10.347072Z",
          "iopub.execute_input": "2022-01-15T15:08:10.347333Z",
          "iopub.status.idle": "2022-01-15T15:08:14.631816Z",
          "shell.execute_reply.started": "2022-01-15T15:08:10.3473Z",
          "shell.execute_reply": "2022-01-15T15:08:14.63086Z"
        },
        "trusted": true,
        "colab": {
          "base_uri": "https://localhost:8080/",
          "height": 228
        },
        "id": "oQPtMLNZddBV",
        "outputId": "d7aaf5a8-75f2-4fd2-b707-6293d29c6262"
      },
      "execution_count": 1,
      "outputs": [
        {
          "output_type": "stream",
          "name": "stdout",
          "text": [
            "                                 \u001b[1mNumeric Features Distribution                                  \n"
          ]
        },
        {
          "output_type": "error",
          "ename": "NameError",
          "evalue": "name 'plt' is not defined",
          "traceback": [
            "\u001b[0;31m---------------------------------------------------------------------------\u001b[0m",
            "\u001b[0;31mNameError\u001b[0m                                 Traceback (most recent call last)",
            "\u001b[0;32m<ipython-input-1-1b9fa8cd16d1>\u001b[0m in \u001b[0;36m<cell line: 0>\u001b[0;34m()\u001b[0m\n\u001b[1;32m      7\u001b[0m \u001b[0mclr\u001b[0m\u001b[0;34m=\u001b[0m\u001b[0;34m[\u001b[0m\u001b[0;34m'r'\u001b[0m\u001b[0;34m,\u001b[0m\u001b[0;34m'g'\u001b[0m\u001b[0;34m,\u001b[0m\u001b[0;34m'b'\u001b[0m\u001b[0;34m,\u001b[0m\u001b[0;34m'g'\u001b[0m\u001b[0;34m,\u001b[0m\u001b[0;34m'b'\u001b[0m\u001b[0;34m,\u001b[0m\u001b[0;34m'r'\u001b[0m\u001b[0;34m]\u001b[0m\u001b[0;34m\u001b[0m\u001b[0;34m\u001b[0m\u001b[0m\n\u001b[1;32m      8\u001b[0m \u001b[0;34m\u001b[0m\u001b[0m\n\u001b[0;32m----> 9\u001b[0;31m \u001b[0mplt\u001b[0m\u001b[0;34m.\u001b[0m\u001b[0mfigure\u001b[0m\u001b[0;34m(\u001b[0m\u001b[0mfigsize\u001b[0m\u001b[0;34m=\u001b[0m\u001b[0;34m[\u001b[0m\u001b[0;36m15\u001b[0m\u001b[0;34m,\u001b[0m\u001b[0;36m4\u001b[0m\u001b[0;34m*\u001b[0m\u001b[0mmath\u001b[0m\u001b[0;34m.\u001b[0m\u001b[0mceil\u001b[0m\u001b[0;34m(\u001b[0m\u001b[0mlen\u001b[0m\u001b[0;34m(\u001b[0m\u001b[0mnf\u001b[0m\u001b[0;34m)\u001b[0m\u001b[0;34m/\u001b[0m\u001b[0mn\u001b[0m\u001b[0;34m)\u001b[0m\u001b[0;34m]\u001b[0m\u001b[0;34m)\u001b[0m\u001b[0;34m\u001b[0m\u001b[0;34m\u001b[0m\u001b[0m\n\u001b[0m\u001b[1;32m     10\u001b[0m \u001b[0;32mfor\u001b[0m \u001b[0mi\u001b[0m \u001b[0;32min\u001b[0m \u001b[0mrange\u001b[0m\u001b[0;34m(\u001b[0m\u001b[0mlen\u001b[0m\u001b[0;34m(\u001b[0m\u001b[0mnf\u001b[0m\u001b[0;34m)\u001b[0m\u001b[0;34m)\u001b[0m\u001b[0;34m:\u001b[0m\u001b[0;34m\u001b[0m\u001b[0;34m\u001b[0m\u001b[0m\n\u001b[1;32m     11\u001b[0m     \u001b[0mplt\u001b[0m\u001b[0;34m.\u001b[0m\u001b[0msubplot\u001b[0m\u001b[0;34m(\u001b[0m\u001b[0mmath\u001b[0m\u001b[0;34m.\u001b[0m\u001b[0mceil\u001b[0m\u001b[0;34m(\u001b[0m\u001b[0mlen\u001b[0m\u001b[0;34m(\u001b[0m\u001b[0mnf\u001b[0m\u001b[0;34m)\u001b[0m\u001b[0;34m/\u001b[0m\u001b[0;36m3\u001b[0m\u001b[0;34m)\u001b[0m\u001b[0;34m,\u001b[0m\u001b[0mn\u001b[0m\u001b[0;34m,\u001b[0m\u001b[0mi\u001b[0m\u001b[0;34m+\u001b[0m\u001b[0;36m1\u001b[0m\u001b[0;34m)\u001b[0m\u001b[0;34m\u001b[0m\u001b[0;34m\u001b[0m\u001b[0m\n",
            "\u001b[0;31mNameError\u001b[0m: name 'plt' is not defined"
          ]
        }
      ]
    },
    {
      "cell_type": "markdown",
      "source": [
        "**Inference:** There seem to be some outliers. let us fix these in the upcoming section..."
      ],
      "metadata": {
        "papermill": {
          "duration": 0.064845,
          "end_time": "2022-01-06T14:10:18.726164",
          "exception": false,
          "start_time": "2022-01-06T14:10:18.661319",
          "status": "completed"
        },
        "tags": [],
        "id": "-oaZWMDSddBW"
      }
    },
    {
      "cell_type": "code",
      "source": [
        "#Understanding the relationship between all the features\n",
        "\n",
        "g = sns.pairplot(df)\n",
        "plt.title('Pairplots for all the Feature')\n",
        "g.map_upper(sns.kdeplot, levels=4, color=\".2\")\n",
        "plt.show()"
      ],
      "metadata": {
        "papermill": {
          "duration": 82.028524,
          "end_time": "2022-01-06T14:11:40.820217",
          "exception": false,
          "start_time": "2022-01-06T14:10:18.791693",
          "status": "completed"
        },
        "tags": [],
        "execution": {
          "iopub.status.busy": "2022-01-15T15:08:14.636173Z",
          "iopub.execute_input": "2022-01-15T15:08:14.636438Z",
          "iopub.status.idle": "2022-01-15T15:28:24.772276Z",
          "shell.execute_reply.started": "2022-01-15T15:08:14.636395Z",
          "shell.execute_reply": "2022-01-15T15:28:24.770489Z"
        },
        "trusted": true,
        "id": "v4bwmOGOddBW"
      },
      "execution_count": null,
      "outputs": []
    },
    {
      "cell_type": "markdown",
      "source": [
        "**Inference:** We can notice that some features have linear relationship, let us futher analyze the detect multicollinearity."
      ],
      "metadata": {
        "papermill": {
          "duration": 0.132584,
          "end_time": "2022-01-06T14:11:41.089527",
          "exception": false,
          "start_time": "2022-01-06T14:11:40.956943",
          "status": "completed"
        },
        "tags": [],
        "id": "cuRAnJLJddBW"
      }
    },
    {
      "cell_type": "markdown",
      "source": [
        "---"
      ],
      "metadata": {
        "papermill": {
          "duration": 0.130801,
          "end_time": "2022-01-06T14:11:41.349477",
          "exception": false,
          "start_time": "2022-01-06T14:11:41.218676",
          "status": "completed"
        },
        "tags": [],
        "id": "zi4OeN4IddBW"
      }
    },
    {
      "cell_type": "markdown",
      "source": [
        "# <center> 3. Data Preprocessing"
      ],
      "metadata": {
        "papermill": {
          "duration": 0.129316,
          "end_time": "2022-01-06T14:11:41.609294",
          "exception": false,
          "start_time": "2022-01-06T14:11:41.479978",
          "status": "completed"
        },
        "tags": [],
        "id": "weJ3bWvWddBW"
      }
    },
    {
      "cell_type": "code",
      "source": [
        "#Removal of any Duplicate rows (if any)\n",
        "\n",
        "counter = 0\n",
        "rs,cs = original_df.shape\n",
        "\n",
        "df.drop_duplicates(inplace=True)\n",
        "\n",
        "if df.shape==(rs,cs):\n",
        "    print('\\n\\033[1mInference:\\033[0m The dataset doesn\\'t have any duplicates')\n",
        "else:\n",
        "    print(f'\\n\\033[1mInference:\\033[0m Number of duplicates dropped/fixed ---> {rs-df.shape[0]}')"
      ],
      "metadata": {
        "papermill": {
          "duration": 0.145282,
          "end_time": "2022-01-06T14:11:41.883985",
          "exception": false,
          "start_time": "2022-01-06T14:11:41.738703",
          "status": "completed"
        },
        "tags": [],
        "execution": {
          "iopub.status.busy": "2022-01-15T15:28:24.773858Z",
          "iopub.execute_input": "2022-01-15T15:28:24.774239Z",
          "iopub.status.idle": "2022-01-15T15:28:24.794675Z",
          "shell.execute_reply.started": "2022-01-15T15:28:24.774198Z",
          "shell.execute_reply": "2022-01-15T15:28:24.793523Z"
        },
        "trusted": true,
        "id": "S9_Rsy8kddBX"
      },
      "execution_count": null,
      "outputs": []
    },
    {
      "cell_type": "code",
      "source": [
        "#Check for empty elements\n",
        "\n",
        "nvc = pd.DataFrame(df.isnull().sum().sort_values(), columns=['Total Null Values'])\n",
        "nvc['Percentage'] = round(nvc['Total Null Values']/df.shape[0],3)*100\n",
        "print(nvc)"
      ],
      "metadata": {
        "papermill": {
          "duration": 0.142976,
          "end_time": "2022-01-06T14:11:42.156582",
          "exception": false,
          "start_time": "2022-01-06T14:11:42.013606",
          "status": "completed"
        },
        "tags": [],
        "execution": {
          "iopub.status.busy": "2022-01-15T15:28:24.796049Z",
          "iopub.execute_input": "2022-01-15T15:28:24.796636Z",
          "iopub.status.idle": "2022-01-15T15:28:24.809262Z",
          "shell.execute_reply.started": "2022-01-15T15:28:24.796592Z",
          "shell.execute_reply": "2022-01-15T15:28:24.808496Z"
        },
        "trusted": true,
        "id": "-ttIwvY2ddBX"
      },
      "execution_count": null,
      "outputs": []
    },
    {
      "cell_type": "markdown",
      "source": [
        "**Inference:** The datset doesn't have any inconsistant values."
      ],
      "metadata": {
        "papermill": {
          "duration": 0.13115,
          "end_time": "2022-01-06T14:11:42.420994",
          "exception": false,
          "start_time": "2022-01-06T14:11:42.289844",
          "status": "completed"
        },
        "tags": [],
        "id": "DEOIkyAKddBX"
      }
    },
    {
      "cell_type": "code",
      "source": [
        "#Converting categorical Columns to Numeric\n",
        "\n",
        "df3 = df.copy()\n",
        "\n",
        "ecc = nvc[nvc['Percentage']!=0].index.values\n",
        "fcc = [i for i in cf if i not in ecc]\n",
        "#One-Hot Binay Encoding\n",
        "oh=True\n",
        "dm=True\n",
        "for i in fcc:\n",
        "    #print(i)\n",
        "    if df3[i].nunique()==2:\n",
        "        if oh==True: print(\"\\033[1mOne-Hot Encoding on features:\\033[0m\")\n",
        "        print(i);oh=False\n",
        "        df3[i]=pd.get_dummies(df3[i], drop_first=True, prefix=str(i))\n",
        "    if (df3[i].nunique()>2 and df3[i].nunique()<17):\n",
        "        if dm==True: print(\"\\n\\033[1mDummy Encoding on features:\\033[0m\")\n",
        "        print(i);dm=False\n",
        "        df3 = pd.concat([df3.drop([i], axis=1), pd.DataFrame(pd.get_dummies(df3[i], drop_first=True, prefix=str(i)))],axis=1)\n",
        "\n",
        "df3.shape"
      ],
      "metadata": {
        "papermill": {
          "duration": 0.172236,
          "end_time": "2022-01-06T14:11:42.724289",
          "exception": false,
          "start_time": "2022-01-06T14:11:42.552053",
          "status": "completed"
        },
        "tags": [],
        "execution": {
          "iopub.status.busy": "2022-01-15T15:28:24.810842Z",
          "iopub.execute_input": "2022-01-15T15:28:24.812008Z",
          "iopub.status.idle": "2022-01-15T15:28:24.844549Z",
          "shell.execute_reply.started": "2022-01-15T15:28:24.811905Z",
          "shell.execute_reply": "2022-01-15T15:28:24.843617Z"
        },
        "trusted": true,
        "id": "DkGII3MZddBX"
      },
      "execution_count": null,
      "outputs": []
    },
    {
      "cell_type": "code",
      "source": [
        "#Removal of outlier:\n",
        "\n",
        "df1 = df3.copy()\n",
        "\n",
        "#features1 = [i for i in features if i not in ['CHAS','RAD']]\n",
        "features1 = nf\n",
        "\n",
        "for i in features1:\n",
        "    Q1 = df1[i].quantile(0.25)\n",
        "    Q3 = df1[i].quantile(0.75)\n",
        "    IQR = Q3 - Q1\n",
        "    df1 = df1[df1[i] <= (Q3+(1.5*IQR))]\n",
        "    df1 = df1[df1[i] >= (Q1-(1.5*IQR))]\n",
        "    df1 = df1.reset_index(drop=True)\n",
        "display(df1.head())\n",
        "print('\\n\\033[1mInference:\\033[0m\\nBefore removal of outliers, The dataset had {} samples.'.format(df3.shape[0]))\n",
        "print('After removal of outliers, The dataset now has {} samples.'.format(df1.shape[0]))"
      ],
      "metadata": {
        "papermill": {
          "duration": 0.181501,
          "end_time": "2022-01-06T14:11:43.038062",
          "exception": false,
          "start_time": "2022-01-06T14:11:42.856561",
          "status": "completed"
        },
        "tags": [],
        "execution": {
          "iopub.status.busy": "2022-01-15T15:28:24.846055Z",
          "iopub.execute_input": "2022-01-15T15:28:24.846311Z",
          "iopub.status.idle": "2022-01-15T15:28:24.92585Z",
          "shell.execute_reply.started": "2022-01-15T15:28:24.846279Z",
          "shell.execute_reply": "2022-01-15T15:28:24.924985Z"
        },
        "trusted": true,
        "id": "VkQZm4IRddBY"
      },
      "execution_count": null,
      "outputs": []
    },
    {
      "cell_type": "code",
      "source": [
        "#Final Dataset size after performing Preprocessing\n",
        "\n",
        "df = df1.copy()\n",
        "df.columns=[i.replace('-','_') for i in df.columns]\n",
        "\n",
        "plt.title('Final Dataset')\n",
        "plt.pie([df.shape[0], original_df.shape[0]-df.shape[0]], radius = 1, labels=['Retained','Dropped'], counterclock=False,\n",
        "        autopct='%1.1f%%', pctdistance=0.9, explode=[0,0], shadow=True)\n",
        "plt.pie([df.shape[0]], labels=['100%'], labeldistance=-0, radius=0.78)\n",
        "plt.show()\n",
        "\n",
        "print(f'\\n\\033[1mInference:\\033[0m After the cleanup process, {original_df.shape[0]-df.shape[0]} samples were dropped, \\\n",
        "while retaining {round(100 - (df.shape[0]*100/(original_df.shape[0])),2)}% of the data.')"
      ],
      "metadata": {
        "papermill": {
          "duration": 0.285777,
          "end_time": "2022-01-06T14:11:43.456468",
          "exception": false,
          "start_time": "2022-01-06T14:11:43.170691",
          "status": "completed"
        },
        "tags": [],
        "execution": {
          "iopub.status.busy": "2022-01-15T15:28:24.92751Z",
          "iopub.execute_input": "2022-01-15T15:28:24.927758Z",
          "iopub.status.idle": "2022-01-15T15:28:25.072271Z",
          "shell.execute_reply.started": "2022-01-15T15:28:24.927727Z",
          "shell.execute_reply": "2022-01-15T15:28:25.071462Z"
        },
        "trusted": true,
        "id": "_C1v3ZPCddBY"
      },
      "execution_count": null,
      "outputs": []
    },
    {
      "cell_type": "markdown",
      "source": [
        "---"
      ],
      "metadata": {
        "papermill": {
          "duration": 0.134317,
          "end_time": "2022-01-06T14:11:43.723712",
          "exception": false,
          "start_time": "2022-01-06T14:11:43.589395",
          "status": "completed"
        },
        "tags": [],
        "id": "tizXnhDHddBY"
      }
    },
    {
      "cell_type": "markdown",
      "source": [
        "# <center> 4. Data Manipulation"
      ],
      "metadata": {
        "papermill": {
          "duration": 0.135619,
          "end_time": "2022-01-06T14:11:43.994159",
          "exception": false,
          "start_time": "2022-01-06T14:11:43.85854",
          "status": "completed"
        },
        "tags": [],
        "id": "uuRed47YddBY"
      }
    },
    {
      "cell_type": "code",
      "source": [
        "#Splitting the data intro training & testing sets\n",
        "\n",
        "m=[]\n",
        "for i in df.columns.values:\n",
        "    m.append(i.replace(' ','_'))\n",
        "\n",
        "df.columns = m\n",
        "X = df.drop([target],axis=1)\n",
        "Y = df[target]\n",
        "Train_X, Test_X, Train_Y, Test_Y = train_test_split(X, Y, train_size=0.8, test_size=0.2, random_state=100)\n",
        "Train_X.reset_index(drop=True,inplace=True)\n",
        "\n",
        "print('Original set  ---> ',X.shape,Y.shape,'\\nTraining set  ---> ',Train_X.shape,Train_Y.shape,'\\nTesting set   ---> ', Test_X.shape,'', Test_Y.shape)"
      ],
      "metadata": {
        "papermill": {
          "duration": 0.156862,
          "end_time": "2022-01-06T14:11:44.285473",
          "exception": false,
          "start_time": "2022-01-06T14:11:44.128611",
          "status": "completed"
        },
        "tags": [],
        "execution": {
          "iopub.status.busy": "2022-01-15T15:28:25.073655Z",
          "iopub.execute_input": "2022-01-15T15:28:25.0739Z",
          "iopub.status.idle": "2022-01-15T15:28:25.091147Z",
          "shell.execute_reply.started": "2022-01-15T15:28:25.07386Z",
          "shell.execute_reply": "2022-01-15T15:28:25.090135Z"
        },
        "trusted": true,
        "id": "kKa_eNX5ddBg"
      },
      "execution_count": null,
      "outputs": []
    },
    {
      "cell_type": "code",
      "source": [
        "#Feature Scaling (Standardization)\n",
        "\n",
        "std = StandardScaler()\n",
        "\n",
        "print('\\033[1mStandardardization on Training set'.center(120))\n",
        "Train_X_std = std.fit_transform(Train_X)\n",
        "Train_X_std = pd.DataFrame(Train_X_std, columns=X.columns)\n",
        "display(Train_X_std.describe())\n",
        "\n",
        "print('\\n','\\033[1mStandardardization on Testing set'.center(120))\n",
        "Test_X_std = std.transform(Test_X)\n",
        "Test_X_std = pd.DataFrame(Test_X_std, columns=X.columns)\n",
        "display(Test_X_std.describe())"
      ],
      "metadata": {
        "papermill": {
          "duration": 0.316819,
          "end_time": "2022-01-06T14:11:44.733296",
          "exception": false,
          "start_time": "2022-01-06T14:11:44.416477",
          "status": "completed"
        },
        "tags": [],
        "execution": {
          "iopub.status.busy": "2022-01-15T15:28:25.092962Z",
          "iopub.execute_input": "2022-01-15T15:28:25.093191Z",
          "iopub.status.idle": "2022-01-15T15:28:25.271886Z",
          "shell.execute_reply.started": "2022-01-15T15:28:25.093163Z",
          "shell.execute_reply": "2022-01-15T15:28:25.271241Z"
        },
        "trusted": true,
        "id": "uNtXzCfDddBg"
      },
      "execution_count": null,
      "outputs": []
    },
    {
      "cell_type": "markdown",
      "source": [
        "---"
      ],
      "metadata": {
        "papermill": {
          "duration": 0.137904,
          "end_time": "2022-01-06T14:11:45.009495",
          "exception": false,
          "start_time": "2022-01-06T14:11:44.871591",
          "status": "completed"
        },
        "tags": [],
        "id": "ZSdilxgoddBg"
      }
    },
    {
      "cell_type": "markdown",
      "source": [
        "# <center> 5. Feature Selection/Extraction"
      ],
      "metadata": {
        "papermill": {
          "duration": 0.135605,
          "end_time": "2022-01-06T14:11:45.284137",
          "exception": false,
          "start_time": "2022-01-06T14:11:45.148532",
          "status": "completed"
        },
        "tags": [],
        "id": "K8xgHNr8ddBh"
      }
    },
    {
      "cell_type": "code",
      "source": [
        "#Checking the correlation\n",
        "\n",
        "print('\\033[1mCorrelation Matrix'.center(100))\n",
        "plt.figure(figsize=[25,20])\n",
        "sns.heatmap(df.corr(), annot=True, vmin=-1, vmax=1, center=0) #cmap='BuGn'\n",
        "plt.show()"
      ],
      "metadata": {
        "papermill": {
          "duration": 5.1995,
          "end_time": "2022-01-06T14:11:50.620773",
          "exception": false,
          "start_time": "2022-01-06T14:11:45.421273",
          "status": "completed"
        },
        "tags": [],
        "execution": {
          "iopub.status.busy": "2022-01-15T15:28:25.272962Z",
          "iopub.execute_input": "2022-01-15T15:28:25.273711Z",
          "iopub.status.idle": "2022-01-15T15:28:28.769634Z",
          "shell.execute_reply.started": "2022-01-15T15:28:25.27367Z",
          "shell.execute_reply": "2022-01-15T15:28:28.76866Z"
        },
        "trusted": true,
        "id": "x8B75ytSddBh"
      },
      "execution_count": null,
      "outputs": []
    },
    {
      "cell_type": "markdown",
      "source": [
        "**Inference:** There seems to be strong multi-correlation between the features. Let us try to fix these..."
      ],
      "metadata": {
        "papermill": {
          "duration": 0.145746,
          "end_time": "2022-01-06T14:11:50.917979",
          "exception": false,
          "start_time": "2022-01-06T14:11:50.772233",
          "status": "completed"
        },
        "tags": [],
        "id": "l7Nh27EMddBj"
      }
    },
    {
      "cell_type": "code",
      "source": [
        "#Testing a Linear Regression model with statsmodels\n",
        "\n",
        "Train_xy = pd.concat([Train_X_std,Train_Y.reset_index(drop=True)],axis=1)\n",
        "a = Train_xy.columns.values\n",
        "\n",
        "API = api.ols(formula='{} ~ {}'.format(target,' + '.join(i for i in Train_X.columns)), data=Train_xy).fit()\n",
        "#print(API.conf_int())\n",
        "#print(API.pvalues)\n",
        "API.summary()"
      ],
      "metadata": {
        "papermill": {
          "duration": 0.2728,
          "end_time": "2022-01-06T14:11:51.33945",
          "exception": false,
          "start_time": "2022-01-06T14:11:51.06665",
          "status": "completed"
        },
        "tags": [],
        "execution": {
          "iopub.status.busy": "2022-01-15T15:28:28.771276Z",
          "iopub.execute_input": "2022-01-15T15:28:28.772258Z",
          "iopub.status.idle": "2022-01-15T15:28:28.907249Z",
          "shell.execute_reply.started": "2022-01-15T15:28:28.772195Z",
          "shell.execute_reply": "2022-01-15T15:28:28.906078Z"
        },
        "trusted": true,
        "id": "_79OfKooddBj"
      },
      "execution_count": null,
      "outputs": []
    },
    {
      "cell_type": "markdown",
      "source": [
        " ---"
      ],
      "metadata": {
        "papermill": {
          "duration": 0.150597,
          "end_time": "2022-01-06T14:11:51.671114",
          "exception": false,
          "start_time": "2022-01-06T14:11:51.520517",
          "status": "completed"
        },
        "tags": [],
        "id": "N1zygkCBddBj"
      }
    },
    {
      "cell_type": "markdown",
      "source": [
        "**Approach:**\n",
        "We can fix these multicollinearity with two techniques:\n",
        "1. Manual Method - Variance Inflation Factor (VIF)\n",
        "2. Automatic Method - Recursive Feature Elimination (RFE)\n",
        "3. Feature Elmination using PCA Decomposition"
      ],
      "metadata": {
        "papermill": {
          "duration": 0.152528,
          "end_time": "2022-01-06T14:11:51.974279",
          "exception": false,
          "start_time": "2022-01-06T14:11:51.821751",
          "status": "completed"
        },
        "tags": [],
        "id": "g0iNhEE2ddBj"
      }
    },
    {
      "cell_type": "markdown",
      "source": [
        "## 5a. Manual Method - VIF"
      ],
      "metadata": {
        "papermill": {
          "duration": 0.150011,
          "end_time": "2022-01-06T14:11:52.279788",
          "exception": false,
          "start_time": "2022-01-06T14:11:52.129777",
          "status": "completed"
        },
        "tags": [],
        "id": "XgTphL90ddBk"
      }
    },
    {
      "cell_type": "code",
      "source": [
        "from sklearn.preprocessing import PolynomialFeatures\n",
        "Trr=[]; Tss=[]; n=3\n",
        "order=['ord-'+str(i) for i in range(2,n)]\n",
        "#Trd = pd.DataFrame(np.zeros((10,n-2)), columns=order)\n",
        "#Tsd = pd.DataFrame(np.zeros((10,n-2)), columns=order)\n",
        "\n",
        "DROP=[];b=[]\n",
        "\n",
        "for i in range(len(Train_X_std.columns)):\n",
        "    vif = pd.DataFrame()\n",
        "    X = Train_X_std.drop(DROP,axis=1)\n",
        "    vif['Features'] = X.columns\n",
        "    vif['VIF'] = [variance_inflation_factor(X.values, i) for i in range(X.shape[1])]\n",
        "    vif['VIF'] = round(vif['VIF'], 2)\n",
        "    vif = vif.sort_values(by = \"VIF\", ascending = False)\n",
        "    vif.reset_index(drop=True, inplace=True)\n",
        "    if vif.loc[0][1]>1:\n",
        "        DROP.append(vif.loc[0][0])\n",
        "        LR = LinearRegression()\n",
        "        LR.fit(Train_X_std.drop(DROP,axis=1), Train_Y)\n",
        "\n",
        "        pred1 = LR.predict(Train_X_std.drop(DROP,axis=1))\n",
        "        pred2 = LR.predict(Test_X_std.drop(DROP,axis=1))\n",
        "\n",
        "        Trr.append(np.sqrt(mean_squared_error(Train_Y, pred1)))\n",
        "        Tss.append(np.sqrt(mean_squared_error(Test_Y, pred2)))\n",
        "\n",
        "        #Trd.loc[i,'ord-'+str(k)] = round(np.sqrt(mean_squared_error(Train_Y, pred1)),2)\n",
        "        #Tsd.loc[i,'ord-'+str(k)] = round(np.sqrt(mean_squared_error(Test_Y, pred2)),2)\n",
        "\n",
        "print('Dropped Features --> ',DROP)\n",
        "#plt.plot(b)\n",
        "#plt.show()\n",
        "#print(API.summary())\n",
        "\n",
        "# plt.figure(figsize=[20,4])\n",
        "# plt.subplot(1,3,1)\n",
        "# sns.heatmap(Trd.loc[:6], cmap='BuGn', annot=True, vmin=0, vmax=Trd.max().max())\n",
        "# plt.title('Train RMSE')\n",
        "# plt.subplot(1,3,2)\n",
        "# sns.heatmap(Tsd.loc[:6], cmap='BuGn', annot=True, vmin=0, vmax=Trd.max().max()+10)\n",
        "# plt.title('Test RMSE')\n",
        "# plt.subplot(1,3,3)\n",
        "# sns.heatmap((Trd+Tsd).loc[:6], cmap='BuGn', annot=True, vmin=0, vmax=Trd.max().max()+25)\n",
        "# plt.title('Total RMSE')\n",
        "# plt.show()\n",
        "\n",
        "plt.plot(Trr, label='Train RMSE')\n",
        "plt.plot(Tss, label='Test RMSE')\n",
        "#plt.ylim([19.75,20.75])\n",
        "plt.legend()\n",
        "plt.grid()\n",
        "plt.show()"
      ],
      "metadata": {
        "papermill": {
          "duration": 2.226396,
          "end_time": "2022-01-06T14:11:54.654464",
          "exception": false,
          "start_time": "2022-01-06T14:11:52.428068",
          "status": "completed"
        },
        "tags": [],
        "execution": {
          "iopub.status.busy": "2022-01-15T15:28:28.908798Z",
          "iopub.execute_input": "2022-01-15T15:28:28.909129Z",
          "iopub.status.idle": "2022-01-15T15:28:33.887576Z",
          "shell.execute_reply.started": "2022-01-15T15:28:28.909084Z",
          "shell.execute_reply": "2022-01-15T15:28:33.88668Z"
        },
        "trusted": true,
        "id": "1dyjuURQddBk"
      },
      "execution_count": null,
      "outputs": []
    },
    {
      "cell_type": "markdown",
      "source": [
        "## 5b. Automatic Method - RFE"
      ],
      "metadata": {
        "papermill": {
          "duration": 0.153029,
          "end_time": "2022-01-06T14:11:54.95914",
          "exception": false,
          "start_time": "2022-01-06T14:11:54.806111",
          "status": "completed"
        },
        "tags": [],
        "id": "9y_4n5YKddBk"
      }
    },
    {
      "cell_type": "code",
      "source": [
        "from sklearn.preprocessing import PolynomialFeatures\n",
        "Trr=[]; Tss=[]; n=3\n",
        "order=['ord-'+str(i) for i in range(2,n)]\n",
        "Trd = pd.DataFrame(np.zeros((10,n-2)), columns=order)\n",
        "Tsd = pd.DataFrame(np.zeros((10,n-2)), columns=order)\n",
        "\n",
        "m=df.shape[1]-2\n",
        "for i in range(m):\n",
        "    lm = LinearRegression()\n",
        "    rfe = RFE(lm,n_features_to_select=Train_X_std.shape[1]-i)             # running RFE\n",
        "    rfe = rfe.fit(Train_X_std, Train_Y)\n",
        "\n",
        "    LR = LinearRegression()\n",
        "    LR.fit(Train_X_std.loc[:,rfe.support_], Train_Y)\n",
        "\n",
        "    pred1 = LR.predict(Train_X_std.loc[:,rfe.support_])\n",
        "    pred2 = LR.predict(Test_X_std.loc[:,rfe.support_])\n",
        "\n",
        "    Trr.append(np.sqrt(mean_squared_error(Train_Y, pred1)))\n",
        "    Tss.append(np.sqrt(mean_squared_error(Test_Y, pred2)))\n",
        "\n",
        "# plt.figure(figsize=[20,4])\n",
        "# plt.subplot(1,3,1)\n",
        "# sns.heatmap(Trd.loc[:6], cmap='BuGn', annot=True, vmin=0, vmax=Trd.max().max())\n",
        "# plt.title('Train RMSE')\n",
        "# plt.subplot(1,3,2)\n",
        "# sns.heatmap(Tsd.loc[:6], cmap='BuGn', annot=True, vmin=0, vmax=Trd.max().max()+10)\n",
        "# plt.title('Test RMSE')\n",
        "# plt.subplot(1,3,3)\n",
        "# sns.heatmap((Trd+Tsd).loc[:6], cmap='BuGn', annot=True, vmin=0, vmax=Trd.max().max()+25)\n",
        "# plt.title('Total RMSE')\n",
        "# plt.show()\n",
        "\n",
        "plt.plot(Trr, label='Train RMSE')\n",
        "plt.plot(Tss, label='Test RMSE')\n",
        "#plt.ylim([19.75,20.75])\n",
        "plt.legend()\n",
        "plt.grid()\n",
        "plt.show()"
      ],
      "metadata": {
        "papermill": {
          "duration": 1.737577,
          "end_time": "2022-01-06T14:11:56.852171",
          "exception": false,
          "start_time": "2022-01-06T14:11:55.114594",
          "status": "completed"
        },
        "tags": [],
        "execution": {
          "iopub.status.busy": "2022-01-15T15:28:33.889047Z",
          "iopub.execute_input": "2022-01-15T15:28:33.88929Z",
          "iopub.status.idle": "2022-01-15T15:28:36.344989Z",
          "shell.execute_reply.started": "2022-01-15T15:28:33.889259Z",
          "shell.execute_reply": "2022-01-15T15:28:36.344142Z"
        },
        "trusted": true,
        "id": "O4SZ7WZwddBl"
      },
      "execution_count": null,
      "outputs": []
    },
    {
      "cell_type": "code",
      "source": [
        "plt.plot(Trr, label='Train RMSE')\n",
        "plt.plot(Tss, label='Test RMSE')\n",
        "plt.ylim([20,20.75])\n",
        "plt.legend()\n",
        "plt.grid()\n",
        "plt.show()"
      ],
      "metadata": {
        "execution": {
          "iopub.status.busy": "2022-01-15T15:28:36.346123Z",
          "iopub.execute_input": "2022-01-15T15:28:36.346358Z",
          "iopub.status.idle": "2022-01-15T15:28:36.582566Z",
          "shell.execute_reply.started": "2022-01-15T15:28:36.346329Z",
          "shell.execute_reply": "2022-01-15T15:28:36.58162Z"
        },
        "trusted": true,
        "id": "DlUOyYNVddBl"
      },
      "execution_count": null,
      "outputs": []
    },
    {
      "cell_type": "markdown",
      "source": [
        "## 5c. Feature Elmination using PCA Decomposition"
      ],
      "metadata": {
        "papermill": {
          "duration": 0.156493,
          "end_time": "2022-01-06T14:11:57.164969",
          "exception": false,
          "start_time": "2022-01-06T14:11:57.008476",
          "status": "completed"
        },
        "tags": [],
        "id": "atb4RKCUddBm"
      }
    },
    {
      "cell_type": "code",
      "source": [
        "from sklearn.decomposition import PCA\n",
        "\n",
        "pca = PCA().fit(Train_X_std)\n",
        "\n",
        "fig, ax = plt.subplots(figsize=(8,6))\n",
        "x_values = range(1, pca.n_components_+1)\n",
        "ax.bar(x_values, pca.explained_variance_ratio_, lw=2, label='Explained Variance')\n",
        "ax.plot(x_values, np.cumsum(pca.explained_variance_ratio_), lw=2, label='Cumulative Explained Variance', color='red')\n",
        "plt.plot([0,pca.n_components_+1],[0.9,0.9],'g--')\n",
        "ax.set_title('Explained variance of components')\n",
        "ax.set_xlabel('Principal Component')\n",
        "ax.set_ylabel('Explained Variance')\n",
        "plt.legend()\n",
        "plt.grid()\n",
        "plt.show()"
      ],
      "metadata": {
        "papermill": {
          "duration": 0.53063,
          "end_time": "2022-01-06T14:11:57.845347",
          "exception": false,
          "start_time": "2022-01-06T14:11:57.314717",
          "status": "completed"
        },
        "tags": [],
        "execution": {
          "iopub.status.busy": "2022-01-15T15:28:36.583656Z",
          "iopub.execute_input": "2022-01-15T15:28:36.583881Z",
          "iopub.status.idle": "2022-01-15T15:28:36.913158Z",
          "shell.execute_reply.started": "2022-01-15T15:28:36.583851Z",
          "shell.execute_reply": "2022-01-15T15:28:36.912179Z"
        },
        "trusted": true,
        "id": "VrQRLORSddBm"
      },
      "execution_count": null,
      "outputs": []
    },
    {
      "cell_type": "code",
      "source": [
        "from sklearn.decomposition import PCA\n",
        "from sklearn.preprocessing import PolynomialFeatures\n",
        "Trr=[]; Tss=[]; n=3\n",
        "order=['ord-'+str(i) for i in range(2,n)]\n",
        "Trd = pd.DataFrame(np.zeros((10,n-2)), columns=order)\n",
        "Tsd = pd.DataFrame(np.zeros((10,n-2)), columns=order)\n",
        "m=df.shape[1]-1\n",
        "\n",
        "for i in range(m):\n",
        "    pca = PCA(n_components=Train_X_std.shape[1]-i)\n",
        "    Train_X_std_pca = pca.fit_transform(Train_X_std)\n",
        "    Test_X_std_pca = pca.fit_transform(Test_X_std)\n",
        "\n",
        "    LR = LinearRegression()\n",
        "    LR.fit(Train_X_std_pca, Train_Y)\n",
        "\n",
        "    pred1 = LR.predict(Train_X_std_pca)\n",
        "    pred2 = LR.predict(Test_X_std_pca)\n",
        "\n",
        "    Trr.append(round(np.sqrt(mean_squared_error(Train_Y, pred1)),2))\n",
        "    Tss.append(round(np.sqrt(mean_squared_error(Test_Y, pred2)),2))\n",
        "\n",
        "# plt.figure(figsize=[20,4.5])\n",
        "# plt.subplot(1,3,1)\n",
        "# sns.heatmap(Trd.loc[:6], cmap='BuGn', annot=True, vmin=0, vmax=Trd.max().max())\n",
        "# plt.title('Train RMSE')\n",
        "# plt.subplot(1,3,2)\n",
        "# sns.heatmap(Tsd.loc[:6], cmap='BuGn', annot=True, vmin=0, vmax=Trd.max().max()+10)\n",
        "# plt.title('Test RMSE')\n",
        "# plt.subplot(1,3,3)\n",
        "# sns.heatmap((Trd+Tsd).loc[:6], cmap='BuGn', annot=True, vmin=0, vmax=Trd.max().max()+25)\n",
        "# plt.title('Total RMSE')\n",
        "# plt.show()\n",
        "\n",
        "plt.plot(Trr, label='Train RMSE')\n",
        "plt.plot(Tss, label='Test RMSE')\n",
        "#plt.ylim([19.5,20.75])\n",
        "plt.legend()\n",
        "plt.grid()\n",
        "plt.show()"
      ],
      "metadata": {
        "papermill": {
          "duration": 0.837979,
          "end_time": "2022-01-06T14:11:58.83873",
          "exception": false,
          "start_time": "2022-01-06T14:11:58.000751",
          "status": "completed"
        },
        "tags": [],
        "execution": {
          "iopub.status.busy": "2022-01-15T15:28:36.914805Z",
          "iopub.execute_input": "2022-01-15T15:28:36.915137Z",
          "iopub.status.idle": "2022-01-15T15:28:38.388403Z",
          "shell.execute_reply.started": "2022-01-15T15:28:36.915092Z",
          "shell.execute_reply": "2022-01-15T15:28:38.387779Z"
        },
        "trusted": true,
        "id": "UXILq-53ddBm"
      },
      "execution_count": null,
      "outputs": []
    },
    {
      "cell_type": "markdown",
      "source": [
        "#### Inference:\n",
        "It can be seen that the performance of the modelsis quiet comparable unpon dropping features using VIF, RFE & PCA Techniques. Comparing the RMSE plots, the optimal values were found for dropping most  features using manual RFE Technique. But let us skip these for now, as the advanced ML Algorithms take care of multicollinearity."
      ],
      "metadata": {
        "papermill": {
          "duration": 0.179273,
          "end_time": "2022-01-06T14:11:59.170285",
          "exception": false,
          "start_time": "2022-01-06T14:11:58.991012",
          "status": "completed"
        },
        "tags": [],
        "id": "mbuX1JntddBn"
      }
    },
    {
      "cell_type": "code",
      "source": [
        "# #Shortlisting the selected Features (with RFE)\n",
        "\n",
        "lm = LinearRegression()\n",
        "rfe = RFE(lm,n_features_to_select=Train_X_std.shape[1]-df.shape[1]+10)             # running RFE\n",
        "rfe = rfe.fit(Train_X_std, Train_Y)\n",
        "\n",
        "LR = LinearRegression()\n",
        "LR.fit(Train_X_std.loc[:,rfe.support_], Train_Y)\n",
        "\n",
        "#print(Train_X_std.loc[:,rfe.support_].columns)\n",
        "\n",
        "pred1 = LR.predict(Train_X_std.loc[:,rfe.support_])\n",
        "pred2 = LR.predict(Test_X_std.loc[:,rfe.support_])\n",
        "\n",
        "print(np.sqrt(mean_squared_error(Train_Y, pred1)))\n",
        "print(np.sqrt(mean_squared_error(Test_Y, pred2)))\n",
        "\n",
        "# Train_X_std = Train_X_std.loc[:,rfe.support_]\n",
        "# Test_X_std = Test_X_std.loc[:,rfe.support_]"
      ],
      "metadata": {
        "papermill": {
          "duration": 0.231547,
          "end_time": "2022-01-06T14:11:59.56364",
          "exception": false,
          "start_time": "2022-01-06T14:11:59.332093",
          "status": "completed"
        },
        "tags": [],
        "execution": {
          "iopub.status.busy": "2022-01-15T15:28:38.389863Z",
          "iopub.execute_input": "2022-01-15T15:28:38.390762Z",
          "iopub.status.idle": "2022-01-15T15:28:38.586319Z",
          "shell.execute_reply.started": "2022-01-15T15:28:38.39071Z",
          "shell.execute_reply": "2022-01-15T15:28:38.577528Z"
        },
        "trusted": true,
        "id": "DuGGN9iAddBn"
      },
      "execution_count": null,
      "outputs": []
    },
    {
      "cell_type": "markdown",
      "source": [
        "---"
      ],
      "metadata": {
        "papermill": {
          "duration": 0.153231,
          "end_time": "2022-01-06T14:11:59.912779",
          "exception": false,
          "start_time": "2022-01-06T14:11:59.759548",
          "status": "completed"
        },
        "tags": [],
        "id": "FOTMLKosddBn"
      }
    },
    {
      "cell_type": "markdown",
      "source": [
        "# <center> 6. Predictive Modelling"
      ],
      "metadata": {
        "papermill": {
          "duration": 0.151792,
          "end_time": "2022-01-06T14:12:00.217987",
          "exception": false,
          "start_time": "2022-01-06T14:12:00.066195",
          "status": "completed"
        },
        "tags": [],
        "id": "IBoDhQrNddBo"
      }
    },
    {
      "cell_type": "code",
      "source": [
        "#Let us first define a function to evaluate our models\n",
        "\n",
        "Model_Evaluation_Comparison_Matrix = pd.DataFrame(np.zeros([5,8]), columns=['Train-R2','Test-R2','Train-RSS','Test-RSS',\n",
        "                                                                            'Train-MSE','Test-MSE','Train-RMSE','Test-RMSE'])\n",
        "rc=np.random.choice(Train_X_std.loc[:,Train_X_std.nunique()>=50].columns.values,3,replace=False)\n",
        "def Evaluate(n, pred1,pred2):\n",
        "    #Plotting predicted predicteds alongside the actual datapoints\n",
        "    plt.figure(figsize=[15,6])\n",
        "    for e,i in enumerate(rc):\n",
        "        plt.subplot(2,3,e+1)\n",
        "        plt.scatter(y=Train_Y, x=Train_X_std[i], label='Actual')\n",
        "        plt.scatter(y=pred1, x=Train_X_std[i], label='Prediction')\n",
        "        plt.legend()\n",
        "    plt.show()\n",
        "\n",
        "    #Evaluating the Multiple Linear Regression Model\n",
        "\n",
        "    print('\\n\\n{}Training Set Metrics{}'.format('-'*20, '-'*20))\n",
        "    print('\\nR2-Score on Training set --->',round(r2_score(Train_Y, pred1),20))\n",
        "    print('Residual Sum of Squares (RSS) on Training set  --->',round(np.sum(np.square(Train_Y-pred1)),20))\n",
        "    print('Mean Squared Error (MSE) on Training set       --->',round(mean_squared_error(Train_Y, pred1),20))\n",
        "    print('Root Mean Squared Error (RMSE) on Training set --->',round(np.sqrt(mean_squared_error(Train_Y, pred1)),20))\n",
        "\n",
        "    print('\\n{}Testing Set Metrics{}'.format('-'*20, '-'*20))\n",
        "    print('\\nR2-Score on Testing set --->',round(r2_score(Test_Y, pred2),20))\n",
        "    print('Residual Sum of Squares (RSS) on Training set  --->',round(np.sum(np.square(Test_Y-pred2)),20))\n",
        "    print('Mean Squared Error (MSE) on Training set       --->',round(mean_squared_error(Test_Y, pred2),20))\n",
        "    print('Root Mean Squared Error (RMSE) on Training set --->',round(np.sqrt(mean_squared_error(Test_Y, pred2)),20))\n",
        "    print('\\n{}Residual Plots{}'.format('-'*20, '-'*20))\n",
        "\n",
        "    Model_Evaluation_Comparison_Matrix.loc[n,'Train-R2']  = round(r2_score(Train_Y, pred1),20)\n",
        "    Model_Evaluation_Comparison_Matrix.loc[n,'Test-R2']   = round(r2_score(Test_Y, pred2),20)\n",
        "    Model_Evaluation_Comparison_Matrix.loc[n,'Train-RSS'] = round(np.sum(np.square(Train_Y-pred1)),20)\n",
        "    Model_Evaluation_Comparison_Matrix.loc[n,'Test-RSS']  = round(np.sum(np.square(Test_Y-pred2)),20)\n",
        "    Model_Evaluation_Comparison_Matrix.loc[n,'Train-MSE'] = round(mean_squared_error(Train_Y, pred1),20)\n",
        "    Model_Evaluation_Comparison_Matrix.loc[n,'Test-MSE']  = round(mean_squared_error(Test_Y, pred2),20)\n",
        "    Model_Evaluation_Comparison_Matrix.loc[n,'Train-RMSE']= round(np.sqrt(mean_squared_error(Train_Y, pred1)),20)\n",
        "    Model_Evaluation_Comparison_Matrix.loc[n,'Test-RMSE'] = round(np.sqrt(mean_squared_error(Test_Y, pred2)),20)\n",
        "\n",
        "    # Plotting y_test and y_pred to understand the spread.\n",
        "    plt.figure(figsize=[15,4])\n",
        "\n",
        "    plt.subplot(1,2,1)\n",
        "    sns.distplot((Train_Y - pred1))\n",
        "    plt.title('Error Terms')\n",
        "    plt.xlabel('Errors')\n",
        "\n",
        "    plt.subplot(1,2,2)\n",
        "    plt.scatter(Train_Y,pred1)\n",
        "    plt.plot([Train_Y.min(),Train_Y.max()],[Train_Y.min(),Train_Y.max()], 'r--')\n",
        "    plt.title('Test vs Prediction')\n",
        "    plt.xlabel('y_test')\n",
        "    plt.ylabel('y_pred')\n",
        "    plt.show()"
      ],
      "metadata": {
        "papermill": {
          "duration": 0.181965,
          "end_time": "2022-01-06T14:12:00.553477",
          "exception": false,
          "start_time": "2022-01-06T14:12:00.371512",
          "status": "completed"
        },
        "tags": [],
        "execution": {
          "iopub.status.busy": "2022-01-15T15:28:38.587911Z",
          "iopub.execute_input": "2022-01-15T15:28:38.58824Z",
          "iopub.status.idle": "2022-01-15T15:28:38.677032Z",
          "shell.execute_reply.started": "2022-01-15T15:28:38.588195Z",
          "shell.execute_reply": "2022-01-15T15:28:38.675944Z"
        },
        "trusted": true,
        "id": "kiQAU5F7ddBo"
      },
      "execution_count": null,
      "outputs": []
    },
    {
      "cell_type": "markdown",
      "source": [
        "---"
      ],
      "metadata": {
        "papermill": {
          "duration": 0.153893,
          "end_time": "2022-01-06T14:12:00.862319",
          "exception": false,
          "start_time": "2022-01-06T14:12:00.708426",
          "status": "completed"
        },
        "tags": [],
        "id": "0_pOHYZ1ddBo"
      }
    },
    {
      "cell_type": "markdown",
      "source": [
        "## Objective:\n",
        "Let us now try building multiple regression models & compare their evaluation metrics to choose the best fit model both training and testing sets..."
      ],
      "metadata": {
        "papermill": {
          "duration": 0.156059,
          "end_time": "2022-01-06T14:12:01.173674",
          "exception": false,
          "start_time": "2022-01-06T14:12:01.017615",
          "status": "completed"
        },
        "tags": [],
        "id": "xQapGzm5ddBp"
      }
    },
    {
      "cell_type": "markdown",
      "source": [
        "## 6a. Multiple Linear Regression(MLR)"
      ],
      "metadata": {
        "papermill": {
          "duration": 0.153427,
          "end_time": "2022-01-06T14:12:01.48348",
          "exception": false,
          "start_time": "2022-01-06T14:12:01.330053",
          "status": "completed"
        },
        "tags": [],
        "id": "VwMZNVrjddBp"
      }
    },
    {
      "cell_type": "markdown",
      "source": [
        "<img src=\"https://raw.githubusercontent.com/Masterx-AI/Project_BoomBikes_Share_Prediction/main/mr.png\" style=\"width: 600px;float: left;\"/>"
      ],
      "metadata": {
        "papermill": {
          "duration": 0.151785,
          "end_time": "2022-01-06T14:12:01.787975",
          "exception": false,
          "start_time": "2022-01-06T14:12:01.63619",
          "status": "completed"
        },
        "tags": [],
        "id": "hV9jyTM_ddBp"
      }
    },
    {
      "cell_type": "code",
      "source": [
        "#Linear Regression\n",
        "\n",
        "MLR = LinearRegression().fit(Train_X_std,Train_Y)\n",
        "pred1 = MLR.predict(Train_X_std)\n",
        "pred2 = MLR.predict(Test_X_std)\n",
        "\n",
        "print('{}{}\\033[1m Evaluating Multiple Linear Regression Model \\033[0m{}{}\\n'.format('<'*3,'-'*35 ,'-'*35,'>'*3))\n",
        "print('The Coeffecient of the Regresion Model was found to be ',MLR.coef_)\n",
        "print('The Intercept of the Regresion Model was found to be ',MLR.intercept_)\n",
        "\n",
        "Evaluate(0, pred1, pred2)"
      ],
      "metadata": {
        "papermill": {
          "duration": 1.04739,
          "end_time": "2022-01-06T14:12:02.987457",
          "exception": false,
          "start_time": "2022-01-06T14:12:01.940067",
          "status": "completed"
        },
        "tags": [],
        "execution": {
          "iopub.status.busy": "2022-01-15T15:28:38.678404Z",
          "iopub.execute_input": "2022-01-15T15:28:38.679994Z",
          "iopub.status.idle": "2022-01-15T15:28:41.616211Z",
          "shell.execute_reply.started": "2022-01-15T15:28:38.679934Z",
          "shell.execute_reply": "2022-01-15T15:28:41.615363Z"
        },
        "trusted": true,
        "id": "p-24jSHqddBp"
      },
      "execution_count": null,
      "outputs": []
    },
    {
      "cell_type": "markdown",
      "source": [
        "---"
      ],
      "metadata": {
        "papermill": {
          "duration": 0.154849,
          "end_time": "2022-01-06T14:12:03.303738",
          "exception": false,
          "start_time": "2022-01-06T14:12:03.148889",
          "status": "completed"
        },
        "tags": [],
        "id": "8UYCSRslddBp"
      }
    },
    {
      "cell_type": "markdown",
      "source": [
        "## 6b. Ridge Regression Model"
      ],
      "metadata": {
        "papermill": {
          "duration": 0.158081,
          "end_time": "2022-01-06T14:12:03.620218",
          "exception": false,
          "start_time": "2022-01-06T14:12:03.462137",
          "status": "completed"
        },
        "tags": [],
        "id": "3al-U0npddBq"
      }
    },
    {
      "cell_type": "markdown",
      "source": [
        "<img src=\"https://raw.githubusercontent.com/Masterx-AI/Project_BoomBikes_Share_Prediction/main/ridge.png\" style=\"width: 500px;float: left;\"/>"
      ],
      "metadata": {
        "papermill": {
          "duration": 0.158482,
          "end_time": "2022-01-06T14:12:03.936618",
          "exception": false,
          "start_time": "2022-01-06T14:12:03.778136",
          "status": "completed"
        },
        "tags": [],
        "id": "iDkut8LBddBq"
      }
    },
    {
      "cell_type": "code",
      "source": [
        "#Creating a Ridge Regression model\n",
        "\n",
        "RLR = Ridge().fit(Train_X_std,Train_Y)\n",
        "pred1 = RLR.predict(Train_X_std)\n",
        "pred2 = RLR.predict(Test_X_std)\n",
        "\n",
        "print('{}{}\\033[1m Evaluating Ridge Regression Model \\033[0m{}{}\\n'.format('<'*3,'-'*35 ,'-'*35,'>'*3))\n",
        "print('The Coeffecient of the Regresion Model was found to be ',MLR.coef_)\n",
        "print('The Intercept of the Regresion Model was found to be ',MLR.intercept_)\n",
        "\n",
        "Evaluate(1, pred1, pred2)"
      ],
      "metadata": {
        "papermill": {
          "duration": 1.058581,
          "end_time": "2022-01-06T14:12:05.157314",
          "exception": false,
          "start_time": "2022-01-06T14:12:04.098733",
          "status": "completed"
        },
        "tags": [],
        "execution": {
          "iopub.status.busy": "2022-01-15T15:28:41.620095Z",
          "iopub.execute_input": "2022-01-15T15:28:41.620454Z",
          "iopub.status.idle": "2022-01-15T15:28:44.618657Z",
          "shell.execute_reply.started": "2022-01-15T15:28:41.62042Z",
          "shell.execute_reply": "2022-01-15T15:28:44.617699Z"
        },
        "trusted": true,
        "id": "AlekXqkqddBq"
      },
      "execution_count": null,
      "outputs": []
    },
    {
      "cell_type": "markdown",
      "source": [
        "---"
      ],
      "metadata": {
        "papermill": {
          "duration": 0.173195,
          "end_time": "2022-01-06T14:12:05.519464",
          "exception": false,
          "start_time": "2022-01-06T14:12:05.346269",
          "status": "completed"
        },
        "tags": [],
        "id": "9TDteEltddBr"
      }
    },
    {
      "cell_type": "markdown",
      "source": [
        "## 6c. Lasso Regression Model"
      ],
      "metadata": {
        "papermill": {
          "duration": 0.171083,
          "end_time": "2022-01-06T14:12:05.870201",
          "exception": false,
          "start_time": "2022-01-06T14:12:05.699118",
          "status": "completed"
        },
        "tags": [],
        "id": "1harIb2uddBr"
      }
    },
    {
      "cell_type": "markdown",
      "source": [
        "<img src=\"https://raw.githubusercontent.com/Masterx-AI/Project_BoomBikes_Share_Prediction/main/lasso.png\" style=\"width: 500px;float: left;\"/>"
      ],
      "metadata": {
        "papermill": {
          "duration": 0.164698,
          "end_time": "2022-01-06T14:12:06.203694",
          "exception": false,
          "start_time": "2022-01-06T14:12:06.038996",
          "status": "completed"
        },
        "tags": [],
        "id": "V1nU4R8CddBr"
      }
    },
    {
      "cell_type": "code",
      "source": [
        "#Creating a Ridge Regression model\n",
        "\n",
        "LLR = Lasso().fit(Train_X_std,Train_Y)\n",
        "pred1 = LLR.predict(Train_X_std)\n",
        "pred2 = LLR.predict(Test_X_std)\n",
        "\n",
        "print('{}{}\\033[1m Evaluating Lasso Regression Model \\033[0m{}{}\\n'.format('<'*3,'-'*35 ,'-'*35,'>'*3))\n",
        "print('The Coeffecient of the Regresion Model was found to be ',MLR.coef_)\n",
        "print('The Intercept of the Regresion Model was found to be ',MLR.intercept_)\n",
        "\n",
        "Evaluate(2, pred1, pred2)"
      ],
      "metadata": {
        "papermill": {
          "duration": 1.05719,
          "end_time": "2022-01-06T14:12:07.425412",
          "exception": false,
          "start_time": "2022-01-06T14:12:06.368222",
          "status": "completed"
        },
        "tags": [],
        "execution": {
          "iopub.status.busy": "2022-01-15T15:28:44.619905Z",
          "iopub.execute_input": "2022-01-15T15:28:44.620161Z",
          "iopub.status.idle": "2022-01-15T15:28:47.560294Z",
          "shell.execute_reply.started": "2022-01-15T15:28:44.620127Z",
          "shell.execute_reply": "2022-01-15T15:28:47.559471Z"
        },
        "trusted": true,
        "id": "vDIsz271ddBs"
      },
      "execution_count": null,
      "outputs": []
    },
    {
      "cell_type": "markdown",
      "source": [
        "---"
      ],
      "metadata": {
        "papermill": {
          "duration": 0.172982,
          "end_time": "2022-01-06T14:12:07.768332",
          "exception": false,
          "start_time": "2022-01-06T14:12:07.59535",
          "status": "completed"
        },
        "tags": [],
        "id": "rWwwBiq2ddBs"
      }
    },
    {
      "cell_type": "markdown",
      "source": [
        "## 6d. Elastic-Net Regression"
      ],
      "metadata": {
        "papermill": {
          "duration": 0.166779,
          "end_time": "2022-01-06T14:12:08.100272",
          "exception": false,
          "start_time": "2022-01-06T14:12:07.933493",
          "status": "completed"
        },
        "tags": [],
        "id": "z4cJT-lrddBs"
      }
    },
    {
      "cell_type": "markdown",
      "source": [
        "<img src=\"https://raw.githubusercontent.com/Masterx-AI/Project_BoomBikes_Share_Prediction/main/en.png\" style=\"width: 500px;float: left;\"/>"
      ],
      "metadata": {
        "papermill": {
          "duration": 0.166555,
          "end_time": "2022-01-06T14:12:08.438662",
          "exception": false,
          "start_time": "2022-01-06T14:12:08.272107",
          "status": "completed"
        },
        "tags": [],
        "id": "srPf-CbaddBs"
      }
    },
    {
      "cell_type": "code",
      "source": [
        "#Creating a ElasticNet Regression model\n",
        "\n",
        "ENR = ElasticNet().fit(Train_X_std,Train_Y)\n",
        "pred1 = ENR.predict(Train_X_std)\n",
        "pred2 = ENR.predict(Test_X_std)\n",
        "\n",
        "print('{}{}\\033[1m Evaluating Elastic-Net Regression Model \\033[0m{}{}\\n'.format('<'*3,'-'*35 ,'-'*35,'>'*3))\n",
        "print('The Coeffecient of the Regresion Model was found to be ',MLR.coef_)\n",
        "print('The Intercept of the Regresion Model was found to be ',MLR.intercept_)\n",
        "\n",
        "Evaluate(3, pred1, pred2)"
      ],
      "metadata": {
        "papermill": {
          "duration": 1.053794,
          "end_time": "2022-01-06T14:12:09.65772",
          "exception": false,
          "start_time": "2022-01-06T14:12:08.603926",
          "status": "completed"
        },
        "tags": [],
        "execution": {
          "iopub.status.busy": "2022-01-15T15:28:47.561537Z",
          "iopub.execute_input": "2022-01-15T15:28:47.561772Z",
          "iopub.status.idle": "2022-01-15T15:28:50.558811Z",
          "shell.execute_reply.started": "2022-01-15T15:28:47.561742Z",
          "shell.execute_reply": "2022-01-15T15:28:50.557866Z"
        },
        "trusted": true,
        "id": "ed3NDPb4ddBs"
      },
      "execution_count": null,
      "outputs": []
    },
    {
      "cell_type": "markdown",
      "source": [
        "---"
      ],
      "metadata": {
        "papermill": {
          "duration": 0.168508,
          "end_time": "2022-01-06T14:12:10.003133",
          "exception": false,
          "start_time": "2022-01-06T14:12:09.834625",
          "status": "completed"
        },
        "tags": [],
        "id": "beJU6ypxddBt"
      }
    },
    {
      "cell_type": "markdown",
      "source": [
        "## 6e. Polynomial Regression Model"
      ],
      "metadata": {
        "papermill": {
          "duration": 0.169268,
          "end_time": "2022-01-06T14:12:10.372517",
          "exception": false,
          "start_time": "2022-01-06T14:12:10.203249",
          "status": "completed"
        },
        "tags": [],
        "id": "qu9oNNirddBt"
      }
    },
    {
      "cell_type": "markdown",
      "source": [
        "<img src=\"https://raw.githubusercontent.com/Masterx-AI/Project_BoomBikes_Share_Prediction/main/pn.png\" style=\"width: 500px;float: left;\"/>"
      ],
      "metadata": {
        "papermill": {
          "duration": 0.168098,
          "end_time": "2022-01-06T14:12:10.710677",
          "exception": false,
          "start_time": "2022-01-06T14:12:10.542579",
          "status": "completed"
        },
        "tags": [],
        "id": "OQLAGszBddBt"
      }
    },
    {
      "cell_type": "code",
      "source": [
        "#Checking polynomial regression performance on various degrees\n",
        "\n",
        "Trr=[]; Tss=[]\n",
        "n_degree=5\n",
        "\n",
        "for i in range(2,n_degree):\n",
        "    #print(f'{i} Degree')\n",
        "    poly_reg = PolynomialFeatures(degree=i)\n",
        "    X_poly = poly_reg.fit_transform(Train_X_std)\n",
        "    X_poly1 = poly_reg.fit_transform(Test_X_std)\n",
        "    LR = LinearRegression()\n",
        "    LR.fit(X_poly, Train_Y)\n",
        "\n",
        "    pred1 = LR.predict(X_poly)\n",
        "    Trr.append(np.sqrt(mean_squared_error(Train_Y, pred1)))\n",
        "\n",
        "    pred2 = LR.predict(X_poly1)\n",
        "    Tss.append(np.sqrt(mean_squared_error(Test_Y, pred2)))\n",
        "\n",
        "plt.figure(figsize=[15,6])\n",
        "plt.subplot(1,2,1)\n",
        "plt.plot(range(2,n_degree),Trr, label='Training')\n",
        "plt.plot(range(2,n_degree),Tss, label='Testing')\n",
        "#plt.plot([1,4],[1,4],'b--')\n",
        "plt.title('Polynomial Regression Fit')\n",
        "#plt.ylim([0,5])\n",
        "plt.xlabel('Degree')\n",
        "plt.ylabel('RMSE')\n",
        "plt.grid()\n",
        "plt.legend()\n",
        "#plt.xticks()\n",
        "\n",
        "plt.subplot(1,2,2)\n",
        "plt.plot(range(2,n_degree),Trr, label='Training')\n",
        "plt.plot(range(2,n_degree),Tss, label='Testing')\n",
        "plt.title('Polynomial Regression Fit')\n",
        "plt.ylim([0,5e-12])\n",
        "plt.xlabel('Degree')\n",
        "plt.ylabel('RMSE')\n",
        "plt.grid()\n",
        "plt.legend()\n",
        "#plt.xticks()\n",
        "plt.show()"
      ],
      "metadata": {
        "papermill": {
          "duration": 0.671553,
          "end_time": "2022-01-06T14:12:11.552008",
          "exception": false,
          "start_time": "2022-01-06T14:12:10.880455",
          "status": "completed"
        },
        "tags": [],
        "execution": {
          "iopub.status.busy": "2022-01-15T15:28:50.559973Z",
          "iopub.execute_input": "2022-01-15T15:28:50.560193Z",
          "iopub.status.idle": "2022-01-15T15:32:24.080158Z",
          "shell.execute_reply.started": "2022-01-15T15:28:50.560161Z",
          "shell.execute_reply": "2022-01-15T15:32:24.079177Z"
        },
        "trusted": true,
        "id": "UmCZvhyrddBt"
      },
      "execution_count": null,
      "outputs": []
    },
    {
      "cell_type": "markdown",
      "source": [
        "**Inference:** We can choose 2nd order polynomial regression as it gives the optimal training & testing scores..."
      ],
      "metadata": {
        "papermill": {
          "duration": 0.167414,
          "end_time": "2022-01-06T14:12:11.888014",
          "exception": false,
          "start_time": "2022-01-06T14:12:11.7206",
          "status": "completed"
        },
        "tags": [],
        "id": "g7_OBkeDddBt"
      }
    },
    {
      "cell_type": "code",
      "source": [
        "#Using the 2nd Order Polynomial Regression model (degree=2)\n",
        "\n",
        "poly_reg = PolynomialFeatures(degree=2)\n",
        "X_poly = poly_reg.fit_transform(Train_X_std)\n",
        "X_poly1 = poly_reg.fit_transform(Test_X_std)\n",
        "PR = LinearRegression()\n",
        "PR.fit(X_poly, Train_Y)\n",
        "\n",
        "pred1 = PR.predict(X_poly)\n",
        "pred2 = PR.predict(X_poly1)\n",
        "\n",
        "print('{}{}\\033[1m Evaluating Polynomial Regression Model \\033[0m{}{}\\n'.format('<'*3,'-'*35 ,'-'*35,'>'*3))\n",
        "print('The Coeffecient of the Regresion Model was found to be ',MLR.coef_)\n",
        "print('The Intercept of the Regresion Model was found to be ',MLR.intercept_)\n",
        "\n",
        "Evaluate(4, pred1, pred2)"
      ],
      "metadata": {
        "papermill": {
          "duration": 1.058257,
          "end_time": "2022-01-06T14:12:13.116664",
          "exception": false,
          "start_time": "2022-01-06T14:12:12.058407",
          "status": "completed"
        },
        "tags": [],
        "execution": {
          "iopub.status.busy": "2022-01-15T15:32:24.081605Z",
          "iopub.execute_input": "2022-01-15T15:32:24.081919Z",
          "iopub.status.idle": "2022-01-15T15:32:27.281129Z",
          "shell.execute_reply.started": "2022-01-15T15:32:24.081881Z",
          "shell.execute_reply": "2022-01-15T15:32:27.280508Z"
        },
        "trusted": true,
        "id": "lqqqmeZ5ddBu"
      },
      "execution_count": null,
      "outputs": []
    },
    {
      "cell_type": "markdown",
      "source": [
        "---"
      ],
      "metadata": {
        "papermill": {
          "duration": 0.205597,
          "end_time": "2022-01-06T14:12:13.499598",
          "exception": false,
          "start_time": "2022-01-06T14:12:13.294001",
          "status": "completed"
        },
        "tags": [],
        "id": "ADUsDjC3ddBu"
      }
    },
    {
      "cell_type": "markdown",
      "source": [
        "### 6f. Comparing the Evaluation Metics of the Models"
      ],
      "metadata": {
        "papermill": {
          "duration": 0.17235,
          "end_time": "2022-01-06T14:12:13.845311",
          "exception": false,
          "start_time": "2022-01-06T14:12:13.672961",
          "status": "completed"
        },
        "tags": [],
        "id": "LcT5q_QSddBu"
      }
    },
    {
      "cell_type": "code",
      "source": [
        "# Regression Models Results Evaluation\n",
        "\n",
        "EMC = Model_Evaluation_Comparison_Matrix.copy()\n",
        "EMC.index = ['Multiple Linear Regression (MLR)','Ridge Linear Regression (RLR)','Lasso Linear Regression (LLR)','Elastic-Net Regression (ENR)','Polynomial Regression (PNR)']\n",
        "EMC"
      ],
      "metadata": {
        "papermill": {
          "duration": 0.19383,
          "end_time": "2022-01-06T14:12:14.212889",
          "exception": false,
          "start_time": "2022-01-06T14:12:14.019059",
          "status": "completed"
        },
        "tags": [],
        "execution": {
          "iopub.status.busy": "2022-01-15T15:32:27.28207Z",
          "iopub.execute_input": "2022-01-15T15:32:27.282965Z",
          "iopub.status.idle": "2022-01-15T15:32:27.299593Z",
          "shell.execute_reply.started": "2022-01-15T15:32:27.282923Z",
          "shell.execute_reply": "2022-01-15T15:32:27.298647Z"
        },
        "trusted": true,
        "id": "F0aJx_r7ddBu"
      },
      "execution_count": null,
      "outputs": []
    },
    {
      "cell_type": "code",
      "source": [
        "# R2-Scores Comparison for different Regression Models\n",
        "\n",
        "R2 = round(EMC['Train-R2'].sort_values(ascending=True),4)\n",
        "plt.hlines(y=R2.index, xmin=0, xmax=R2.values)\n",
        "plt.plot(R2.values, R2.index,'o')\n",
        "plt.title('R2-Scores Comparison for various Regression Models')\n",
        "plt.xlabel('R2-Score')\n",
        "#plt.ylabel('Regression Models')\n",
        "for i, v in enumerate(R2):\n",
        "    plt.text(v+0.002, i-0.05, str(v*100), color='blue')\n",
        "plt.xlim([0,0.1])\n",
        "plt.show()"
      ],
      "metadata": {
        "papermill": {
          "duration": 0.38638,
          "end_time": "2022-01-06T14:12:14.770649",
          "exception": false,
          "start_time": "2022-01-06T14:12:14.384269",
          "status": "completed"
        },
        "tags": [],
        "execution": {
          "iopub.status.busy": "2022-01-15T15:32:27.301162Z",
          "iopub.execute_input": "2022-01-15T15:32:27.30182Z",
          "iopub.status.idle": "2022-01-15T15:32:27.526316Z",
          "shell.execute_reply.started": "2022-01-15T15:32:27.301751Z",
          "shell.execute_reply": "2022-01-15T15:32:27.525403Z"
        },
        "trusted": true,
        "id": "ZrzVNIVKddBv"
      },
      "execution_count": null,
      "outputs": []
    },
    {
      "cell_type": "markdown",
      "source": [
        "**Inference:** From the above plot, it is clear that the polynomial regresion models have the highest explainability power  to understand the dataset."
      ],
      "metadata": {
        "papermill": {
          "duration": 0.179625,
          "end_time": "2022-01-06T14:12:15.127695",
          "exception": false,
          "start_time": "2022-01-06T14:12:14.94807",
          "status": "completed"
        },
        "tags": [],
        "id": "3ZvDW8nEddBv"
      }
    },
    {
      "cell_type": "code",
      "source": [
        "# Root Mean SquaredError Comparison for different Regression Models\n",
        "\n",
        "cc = Model_Evaluation_Comparison_Matrix.columns.values\n",
        "s=5\n",
        "plt.bar(np.arange(5), Model_Evaluation_Comparison_Matrix[cc[6]].values, width=0.3, label='RMSE (Training)')\n",
        "plt.bar(np.arange(5)+0.3, Model_Evaluation_Comparison_Matrix[cc[7]].values, width=0.3, label='RMSE (Testing)')\n",
        "plt.xticks(np.arange(5),EMC.index, rotation =35)\n",
        "plt.legend()\n",
        "plt.ylim([0,25])\n",
        "plt.show()"
      ],
      "metadata": {
        "papermill": {
          "duration": 0.420913,
          "end_time": "2022-01-06T14:12:15.725055",
          "exception": false,
          "start_time": "2022-01-06T14:12:15.304142",
          "status": "completed"
        },
        "tags": [],
        "execution": {
          "iopub.status.busy": "2022-01-15T15:34:41.915564Z",
          "iopub.execute_input": "2022-01-15T15:34:41.915855Z",
          "iopub.status.idle": "2022-01-15T15:34:42.165629Z",
          "shell.execute_reply.started": "2022-01-15T15:34:41.915818Z",
          "shell.execute_reply": "2022-01-15T15:34:42.164782Z"
        },
        "trusted": true,
        "id": "C_hsA-36ddBv"
      },
      "execution_count": null,
      "outputs": []
    },
    {
      "cell_type": "markdown",
      "source": [
        "**Inference:**\\\n",
        "Lesser the RMSE, better the model! Also, provided the model should have close proximity with the training & testing scores. For this problem, it is can be said that polynomial regressions clearly overfitting the current problem. Surprisingly simple MLR Model gave the best results."
      ],
      "metadata": {
        "papermill": {
          "duration": 0.174757,
          "end_time": "2022-01-06T14:12:16.073514",
          "exception": false,
          "start_time": "2022-01-06T14:12:15.898757",
          "status": "completed"
        },
        "tags": [],
        "id": "qQ8d3vcKddBv"
      }
    },
    {
      "cell_type": "markdown",
      "source": [
        "---"
      ],
      "metadata": {
        "papermill": {
          "duration": 0.172879,
          "end_time": "2022-01-06T14:12:16.419647",
          "exception": false,
          "start_time": "2022-01-06T14:12:16.246768",
          "status": "completed"
        },
        "tags": [],
        "id": "23AFIZYnddBv"
      }
    },
    {
      "cell_type": "markdown",
      "source": [
        "# <center> 7. Project Outcomes & Conclusions"
      ],
      "metadata": {
        "papermill": {
          "duration": 0.173457,
          "end_time": "2022-01-06T14:12:16.765933",
          "exception": false,
          "start_time": "2022-01-06T14:12:16.592476",
          "status": "completed"
        },
        "tags": [],
        "id": "6Ww8O3C-ddBw"
      }
    },
    {
      "cell_type": "markdown",
      "source": [
        "### Here are some of the key outcomes of the project:\n",
        "- The Dataset was quiet small with just 18835 samples & after preprocessing 33.4% of the datasamples were dropped.\n",
        "- Visualising the distribution of data & their relationships, helped us to get some insights on the feature-set.\n",
        "- The features had high multicollinearity, hence in Feature Extraction step, we shortlisted the appropriate features with VIF Technique.\n",
        "- Testing multiple algorithms with default hyperparamters gave us some understanding for various models performance on this specific dataset.\n",
        "- While, Polynomial Regression (Order-2) was the best choise, yet it is safe to use multiple regression algorithm, as their scores were quiet comparable & also they're more generalisable."
      ],
      "metadata": {
        "papermill": {
          "duration": 0.1786,
          "end_time": "2022-01-06T14:12:17.119099",
          "exception": false,
          "start_time": "2022-01-06T14:12:16.940499",
          "status": "completed"
        },
        "tags": [],
        "id": "tEanE7iTddBw"
      }
    },
    {
      "cell_type": "code",
      "source": [
        "#<<<--------------------------------------------THE END------------------------------------------------>>>"
      ],
      "metadata": {
        "papermill": {
          "duration": 0.18243,
          "end_time": "2022-01-06T14:12:17.476233",
          "exception": false,
          "start_time": "2022-01-06T14:12:17.293803",
          "status": "completed"
        },
        "tags": [],
        "execution": {
          "iopub.status.busy": "2022-01-15T15:32:27.794854Z",
          "iopub.execute_input": "2022-01-15T15:32:27.795115Z",
          "iopub.status.idle": "2022-01-15T15:32:27.804006Z",
          "shell.execute_reply.started": "2022-01-15T15:32:27.795081Z",
          "shell.execute_reply": "2022-01-15T15:32:27.803094Z"
        },
        "trusted": true,
        "id": "0QDv3advddBw"
      },
      "execution_count": null,
      "outputs": []
    }
  ]
}